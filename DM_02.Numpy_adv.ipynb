{
 "cells": [
  {
   "cell_type": "markdown",
   "metadata": {},
   "source": [
    "아래 강의 노트는 [Python for data Analysis 책](https://github.com/wesm/pydata-book)4장을 기반으로 번역 및 편집하여 페이지 구성함  \n",
    "<img src =\"https://image.yes24.com/goods/73268296/800x0\" width=5%>\n",
    "\n",
    " **무단 배포를 금지 합니다.** \n",
    "\n",
    "***"
   ]
  },
  {
   "cell_type": "markdown",
   "metadata": {},
   "source": [
    "# 고급 배열 조작기법\n",
    "## 배열 재형성\n",
    "```reshape``` 를 이용해 새로운 모양을 나태는 튜플을 넘기기"
   ]
  },
  {
   "cell_type": "code",
   "execution_count": 1,
   "metadata": {
    "scrolled": true
   },
   "outputs": [
    {
     "name": "stdout",
     "output_type": "stream",
     "text": [
      "[0 1 2 3 4 5 6 7]\n",
      "[[0 1]\n",
      " [2 3]\n",
      " [4 5]\n",
      " [6 7]]\n"
     ]
    }
   ],
   "source": [
    "import numpy as np\n",
    "arr = np.arange(8)\n",
    "print(arr)\n",
    "arr= arr.reshape((4, 2))\n",
    "print(arr)"
   ]
  },
  {
   "cell_type": "markdown",
   "metadata": {},
   "source": [
    "다차원 배열 또한 재형성 가능"
   ]
  },
  {
   "cell_type": "code",
   "execution_count": 2,
   "metadata": {},
   "outputs": [
    {
     "data": {
      "text/plain": [
       "array([[0, 1, 2, 3],\n",
       "       [4, 5, 6, 7]])"
      ]
     },
     "execution_count": 2,
     "metadata": {},
     "output_type": "execute_result"
    }
   ],
   "source": [
    "arr.reshape((4, 2)).reshape((2, 4))"
   ]
  },
  {
   "cell_type": "markdown",
   "metadata": {},
   "source": [
    "reshpae에 넘기는 값중 하나가 -1 가능    \n",
    "원본 데이터를 참조하여 적절한 값으로 추론"
   ]
  },
  {
   "cell_type": "code",
   "execution_count": 3,
   "metadata": {},
   "outputs": [
    {
     "data": {
      "text/plain": [
       "array([[[ 0],\n",
       "        [ 1],\n",
       "        [ 2],\n",
       "        [ 3],\n",
       "        [ 4]],\n",
       "\n",
       "       [[ 5],\n",
       "        [ 6],\n",
       "        [ 7],\n",
       "        [ 8],\n",
       "        [ 9]],\n",
       "\n",
       "       [[10],\n",
       "        [11],\n",
       "        [12],\n",
       "        [13],\n",
       "        [14]]])"
      ]
     },
     "execution_count": 3,
     "metadata": {},
     "output_type": "execute_result"
    }
   ],
   "source": [
    "arr = np.arange(15)#0~14\n",
    "arr=arr.reshape((3, 5, -1)) # 3 x 5 x1\n",
    "arr"
   ]
  },
  {
   "cell_type": "code",
   "execution_count": 4,
   "metadata": {},
   "outputs": [
    {
     "data": {
      "text/plain": [
       "array([[ 0,  1,  2,  3,  4],\n",
       "       [ 5,  6,  7,  8,  9],\n",
       "       [10, 11, 12, 13, 14]])"
      ]
     },
     "execution_count": 4,
     "metadata": {},
     "output_type": "execute_result"
    }
   ],
   "source": [
    "arr.reshape((3, -1))"
   ]
  },
  {
   "cell_type": "markdown",
   "metadata": {},
   "source": [
    "다차원 배열을 낮은 차원으로 **평탄화(flattening raveling)** 가능 "
   ]
  },
  {
   "cell_type": "code",
   "execution_count": 5,
   "metadata": {},
   "outputs": [
    {
     "data": {
      "text/plain": [
       "array([[ 0,  1,  2],\n",
       "       [ 3,  4,  5],\n",
       "       [ 6,  7,  8],\n",
       "       [ 9, 10, 11],\n",
       "       [12, 13, 14]])"
      ]
     },
     "execution_count": 5,
     "metadata": {},
     "output_type": "execute_result"
    }
   ],
   "source": [
    "arr = np.arange(15).reshape((5, 3))\n",
    "arr"
   ]
  },
  {
   "cell_type": "code",
   "execution_count": 6,
   "metadata": {},
   "outputs": [
    {
     "data": {
      "text/plain": [
       "array([ 0,  1,  2,  3,  4,  5,  6,  7,  8,  9, 10, 11, 12, 13, 14])"
      ]
     },
     "execution_count": 6,
     "metadata": {},
     "output_type": "execute_result"
    }
   ],
   "source": [
    "arr = arr.ravel()\n",
    "arr"
   ]
  },
  {
   "cell_type": "code",
   "execution_count": 7,
   "metadata": {},
   "outputs": [
    {
     "data": {
      "text/plain": [
       "array([ 0,  1,  2,  3,  4,  5,  6,  7,  8,  9, 10, 11, 12, 13, 14])"
      ]
     },
     "execution_count": 7,
     "metadata": {},
     "output_type": "execute_result"
    }
   ],
   "source": [
    "arr = np.arange(15).reshape((5, 3))\n",
    "arr.flatten()"
   ]
  },
  {
   "cell_type": "markdown",
   "metadata": {},
   "source": [
    "##  배열 이어 붙이고 나누기"
   ]
  },
  {
   "cell_type": "code",
   "execution_count": 8,
   "metadata": {},
   "outputs": [],
   "source": [
    "arr1 = np.array([[1, 2, 3], [4, 5, 6]]) # 2X3\n",
    "arr2 = np.array([[7, 8, 9], [10, 11, 12]])  #2x3"
   ]
  },
  {
   "cell_type": "code",
   "execution_count": 9,
   "metadata": {},
   "outputs": [
    {
     "data": {
      "text/plain": [
       "array([[ 1,  2,  3],\n",
       "       [ 4,  5,  6],\n",
       "       [ 7,  8,  9],\n",
       "       [10, 11, 12]])"
      ]
     },
     "execution_count": 9,
     "metadata": {},
     "output_type": "execute_result"
    }
   ],
   "source": [
    "np.concatenate([arr1, arr2], axis=0) # 4 x 3"
   ]
  },
  {
   "cell_type": "code",
   "execution_count": 10,
   "metadata": {},
   "outputs": [
    {
     "data": {
      "text/plain": [
       "array([[ 1,  2,  3,  7,  8,  9],\n",
       "       [ 4,  5,  6, 10, 11, 12]])"
      ]
     },
     "execution_count": 10,
     "metadata": {},
     "output_type": "execute_result"
    }
   ],
   "source": [
    "np.concatenate([arr1, arr2], axis=1) # 2 x 6"
   ]
  },
  {
   "cell_type": "code",
   "execution_count": 11,
   "metadata": {},
   "outputs": [
    {
     "data": {
      "text/plain": [
       "array([[ 1,  2,  3],\n",
       "       [ 4,  5,  6],\n",
       "       [ 7,  8,  9],\n",
       "       [10, 11, 12]])"
      ]
     },
     "execution_count": 11,
     "metadata": {},
     "output_type": "execute_result"
    }
   ],
   "source": [
    "np.vstack((arr1, arr2)) #np.concatenate([arr1, arr2], axis=0)"
   ]
  },
  {
   "cell_type": "code",
   "execution_count": 12,
   "metadata": {},
   "outputs": [
    {
     "data": {
      "text/plain": [
       "array([[ 1,  2,  3,  7,  8,  9],\n",
       "       [ 4,  5,  6, 10, 11, 12]])"
      ]
     },
     "execution_count": 12,
     "metadata": {},
     "output_type": "execute_result"
    }
   ],
   "source": [
    "np.hstack((arr1, arr2)) #np.concatenate([arr1, arr2], axis=1)"
   ]
  },
  {
   "cell_type": "markdown",
   "metadata": {},
   "source": [
    "```split``` 매서드를 사용하면 하나의 배열을 축을 따라 여러개의 배열로 나눌 수 있음\n",
    "여기에서 [2,3]은 split되는 인덱스를 의미 "
   ]
  },
  {
   "cell_type": "code",
   "execution_count": 13,
   "metadata": {},
   "outputs": [
    {
     "name": "stdout",
     "output_type": "stream",
     "text": [
      "[[-0.49057222  0.48928108]\n",
      " [-0.19249557 -0.21311584]\n",
      " [ 1.83917072 -0.50240216]\n",
      " [-0.22958529 -0.16704125]\n",
      " [ 0.70771715  0.09687626]]\n"
     ]
    }
   ],
   "source": [
    "arr = np.random.randn(5, 2)\n",
    "print(arr)\n",
    "first, second, third = np.split(arr, [1, 2])"
   ]
  },
  {
   "cell_type": "code",
   "execution_count": 14,
   "metadata": {},
   "outputs": [
    {
     "data": {
      "text/plain": [
       "array([[-0.49057222,  0.48928108]])"
      ]
     },
     "execution_count": 14,
     "metadata": {},
     "output_type": "execute_result"
    }
   ],
   "source": [
    "first"
   ]
  },
  {
   "cell_type": "code",
   "execution_count": 15,
   "metadata": {},
   "outputs": [
    {
     "data": {
      "text/plain": [
       "array([[-0.19249557, -0.21311584]])"
      ]
     },
     "execution_count": 15,
     "metadata": {},
     "output_type": "execute_result"
    }
   ],
   "source": [
    "second"
   ]
  },
  {
   "cell_type": "code",
   "execution_count": 16,
   "metadata": {},
   "outputs": [
    {
     "data": {
      "text/plain": [
       "array([[ 1.83917072, -0.50240216],\n",
       "       [-0.22958529, -0.16704125],\n",
       "       [ 0.70771715,  0.09687626]])"
      ]
     },
     "execution_count": 16,
     "metadata": {},
     "output_type": "execute_result"
    }
   ],
   "source": [
    "third"
   ]
  },
  {
   "cell_type": "markdown",
   "metadata": {},
   "source": [
    "## 반복 엘리먼트"
   ]
  },
  {
   "cell_type": "markdown",
   "metadata": {},
   "source": [
    "큰 배열을 만들기 위해 배열을 복사하거나 복제하는 함수로 ```repeat```와 ```tile```이 있다.    \n",
    "```repeat```는 한 배열의 각 원소를 원하는 만큼 복제해서 큰 배열을 생성"
   ]
  },
  {
   "cell_type": "code",
   "execution_count": 1,
   "metadata": {},
   "outputs": [
    {
     "name": "stdout",
     "output_type": "stream",
     "text": [
      "[0 1 2]\n"
     ]
    },
    {
     "data": {
      "text/plain": [
       "array([0, 0, 0, 1, 1, 1, 2, 2, 2])"
      ]
     },
     "execution_count": 1,
     "metadata": {},
     "output_type": "execute_result"
    }
   ],
   "source": [
    "arr = np.arange(3)  # 0 1 2 \n",
    "print(arr)\n",
    "arr.repeat(3) # 000 111 222 "
   ]
  },
  {
   "cell_type": "code",
   "execution_count": 2,
   "metadata": {},
   "outputs": [
    {
     "name": "stdout",
     "output_type": "stream",
     "text": [
      "[[ 1.11533109  0.55882597]\n",
      " [-0.05660742 -1.78747451]]\n"
     ]
    },
    {
     "data": {
      "text/plain": [
       "array([[ 1.11533109,  1.11533109,  0.55882597,  0.55882597],\n",
       "       [ 1.11533109,  1.11533109,  0.55882597,  0.55882597],\n",
       "       [-0.05660742, -0.05660742, -1.78747451, -1.78747451],\n",
       "       [-0.05660742, -0.05660742, -1.78747451, -1.78747451]])"
      ]
     },
     "execution_count": 2,
     "metadata": {},
     "output_type": "execute_result"
    }
   ],
   "source": [
    "arr = np.random.randn(2, 2)\n",
    "print(arr)\n",
    "arr = arr.repeat(2, axis=0)\n",
    "arr.repeat(2, axis=1)\n",
    "\n"
   ]
  },
  {
   "cell_type": "markdown",
   "metadata": {},
   "source": [
    "```tile```은  축을 따라 배열을 복사해서 쌓는 함수 <br>타일을 이어 붙이듯이 같은 내용의 배열을 이어 붙이기"
   ]
  },
  {
   "cell_type": "code",
   "execution_count": 4,
   "metadata": {},
   "outputs": [
    {
     "name": "stdout",
     "output_type": "stream",
     "text": [
      "[[0.04061595 0.13505418]\n",
      " [0.42147568 1.13623832]]\n"
     ]
    },
    {
     "data": {
      "text/plain": [
       "array([[0.04061595, 0.13505418, 0.04061595, 0.13505418],\n",
       "       [0.42147568, 1.13623832, 0.42147568, 1.13623832],\n",
       "       [0.04061595, 0.13505418, 0.04061595, 0.13505418],\n",
       "       [0.42147568, 1.13623832, 0.42147568, 1.13623832]])"
      ]
     },
     "execution_count": 4,
     "metadata": {},
     "output_type": "execute_result"
    }
   ],
   "source": [
    "import numpy as np\n",
    "arr = np.random.randn(2, 2)\n",
    "print(arr)\n",
    "np.tile(arr, (2, 2))"
   ]
  },
  {
   "cell_type": "code",
   "execution_count": 5,
   "metadata": {},
   "outputs": [
    {
     "data": {
      "text/plain": [
       "array([[0.04061595, 0.13505418, 0.04061595, 0.13505418],\n",
       "       [0.42147568, 1.13623832, 0.42147568, 1.13623832],\n",
       "       [0.04061595, 0.13505418, 0.04061595, 0.13505418],\n",
       "       [0.42147568, 1.13623832, 0.42147568, 1.13623832]])"
      ]
     },
     "execution_count": 5,
     "metadata": {},
     "output_type": "execute_result"
    }
   ],
   "source": [
    "np.tile(arr,(2, 2))"
   ]
  },
  {
   "cell_type": "markdown",
   "metadata": {},
   "source": [
    "## 브로드캐스팅 <br>\n",
    "\n",
    "다른 모양의 배열 간의 산술연산을 어떻게 수행 하는 지 설명   \n",
    "**브로드 캐스팅 규칙:**   \n",
    "이어지는 각 차원에 대해 축의 길이가 일치 하거나 둘중 하나가 길이가 1이라면 두 배열을 브로드캐스팅 호환이다.   \n",
    "브로드캐트닝은 누락된 혹은 길이가 1인 차원에 대해 수행   \n",
    "<img src=\"https://i.pinimg.com/736x/95/db/fa/95dbfa11a4f650c55823da7111f1c2ef.jpg\" width=50%> "
   ]
  },
  {
   "cell_type": "code",
   "execution_count": 2,
   "metadata": {},
   "outputs": [
    {
     "name": "stdout",
     "output_type": "stream",
     "text": [
      "[[-17.  -5.   9.]\n",
      " [  4.   2.  -6.]\n",
      " [ 15. -13.   5.]\n",
      " [ -2.  -3.   2.]]\n",
      "arr2\n",
      "\n",
      " [  2.   5. -19.]\n"
     ]
    },
    {
     "data": {
      "text/plain": [
       "array([[-15.,   0., -10.],\n",
       "       [  6.,   7., -25.],\n",
       "       [ 17.,  -8., -14.],\n",
       "       [  0.,   2., -17.]])"
      ]
     },
     "execution_count": 2,
     "metadata": {},
     "output_type": "execute_result"
    }
   ],
   "source": [
    "arr1 = np.around(np.random.randn(4, 3)*10)\n",
    "print(arr1)\n",
    "arr2 =np.around(np.random.randn(3,)*10) \n",
    "print(\"arr2\\n\\n\",arr2)\n",
    "arr1 + arr2"
   ]
  },
  {
   "cell_type": "markdown",
   "metadata": {},
   "source": [
    "아래 예제는 4x3행렬을 만들고 각 행에 대한 평균값을 뺀다고 가정 "
   ]
  },
  {
   "cell_type": "code",
   "execution_count": 3,
   "metadata": {},
   "outputs": [
    {
     "name": "stdout",
     "output_type": "stream",
     "text": [
      "[[ 25.   5.  -8.]\n",
      " [-11. -19.  -8.]\n",
      " [ -7. -13.   6.]\n",
      " [ -8. -14.  -6.]]\n",
      "[  7.33333333 -12.66666667  -4.66666667  -9.33333333]\n",
      "(4,)\n"
     ]
    }
   ],
   "source": [
    "arr1 = np.around(np.random.randn(4, 3)*10)\n",
    "print(arr1)\n",
    "row_mean = arr1.mean(1)\n",
    "print(row_mean)\n",
    "print(row_mean.shape)\n"
   ]
  },
  {
   "cell_type": "markdown",
   "metadata": {},
   "source": [
    "<img src=\"https://i.pinimg.com/736x/95/db/fa/95dbfa11a4f650c55823da7111f1c2ef.jpg\" width=50%>   \n",
    "아래는 3차원 배열의 0번축에 대해 2차원 배열의 값을 더하는 과정\n",
    "<img src=\"https://t1.daumcdn.net/cfile/tistory/992C603359DA68C815\" width=50%>"
   ]
  },
  {
   "cell_type": "markdown",
   "metadata": {},
   "source": [
    "다차원의 배열에서 브로드캐스팅은 규칙을 잘 따라야 계산 <br><br>\n",
    "아래는 차원이 맞지 않을 경우에 대한 에러"
   ]
  },
  {
   "cell_type": "code",
   "execution_count": 4,
   "metadata": {},
   "outputs": [
    {
     "ename": "ValueError",
     "evalue": "operands could not be broadcast together with shapes (4,3) (4,) ",
     "output_type": "error",
     "traceback": [
      "\u001b[0;31m---------------------------------------------------------------------------\u001b[0m",
      "\u001b[0;31mValueError\u001b[0m                                Traceback (most recent call last)",
      "Cell \u001b[0;32mIn[4], line 3\u001b[0m\n\u001b[1;32m      1\u001b[0m dim_main_sub \u001b[38;5;241m=\u001b[39m arr1 \u001b[38;5;241m-\u001b[39m row_mean\u001b[38;5;241m.\u001b[39mreshape(\u001b[38;5;241m4\u001b[39m,\u001b[38;5;241m1\u001b[39m) \u001b[38;5;66;03m#아래는 차원이 맞은 브로드캐스팅\u001b[39;00m\n\u001b[1;32m      2\u001b[0m dim_main_sub\n\u001b[0;32m----> 3\u001b[0m dim_main_sub \u001b[38;5;241m=\u001b[39m \u001b[43marr1\u001b[49m\u001b[43m \u001b[49m\u001b[38;5;241;43m-\u001b[39;49m\u001b[43m \u001b[49m\u001b[43mrow_mean\u001b[49m \u001b[38;5;66;03m#아래는 차원이 맞지 않을 경우에 대한 에러\u001b[39;00m\n",
      "\u001b[0;31mValueError\u001b[0m: operands could not be broadcast together with shapes (4,3) (4,) "
     ]
    }
   ],
   "source": [
    "dim_main_sub = arr1 - row_mean.reshape(4,1) #아래는 차원이 맞은 브로드캐스팅\n",
    "dim_main_sub\n",
    "dim_main_sub = arr1 - row_mean #아래는 차원이 맞지 않을 경우에 대한 에러"
   ]
  },
  {
   "cell_type": "markdown",
   "metadata": {},
   "source": [
    "<img src=\"http://www.astroml.org/_images/fig_broadcast_visual_1.png\">"
   ]
  },
  {
   "cell_type": "code",
   "execution_count": 9,
   "metadata": {},
   "outputs": [
    {
     "data": {
      "text/plain": [
       "array([0, 2, 4])"
      ]
     },
     "execution_count": 9,
     "metadata": {},
     "output_type": "execute_result"
    }
   ],
   "source": [
    "np.arange(3)+np.arange(3)"
   ]
  }
 ],
 "metadata": {
  "kernelspec": {
   "display_name": "Python 3 (ipykernel)",
   "language": "python",
   "name": "python3"
  },
  "language_info": {
   "codemirror_mode": {
    "name": "ipython",
    "version": 3
   },
   "file_extension": ".py",
   "mimetype": "text/x-python",
   "name": "python",
   "nbconvert_exporter": "python",
   "pygments_lexer": "ipython3",
   "version": "3.11.2"
  },
  "varInspector": {
   "cols": {
    "lenName": 16,
    "lenType": 16,
    "lenVar": 40
   },
   "kernels_config": {
    "python": {
     "delete_cmd_postfix": "",
     "delete_cmd_prefix": "del ",
     "library": "var_list.py",
     "varRefreshCmd": "print(var_dic_list())"
    },
    "r": {
     "delete_cmd_postfix": ") ",
     "delete_cmd_prefix": "rm(",
     "library": "var_list.r",
     "varRefreshCmd": "cat(var_dic_list()) "
    }
   },
   "types_to_exclude": [
    "module",
    "function",
    "builtin_function_or_method",
    "instance",
    "_Feature"
   ],
   "window_display": false
  }
 },
 "nbformat": 4,
 "nbformat_minor": 4
}
