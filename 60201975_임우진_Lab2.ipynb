{
 "cells": [
  {
   "cell_type": "code",
   "id": "initial_id",
   "metadata": {
    "collapsed": true,
    "ExecuteTime": {
     "end_time": "2024-09-16T22:03:03.890141Z",
     "start_time": "2024-09-16T22:03:03.849219Z"
    }
   },
   "source": [
    "import numpy as np\n",
    "\n",
    "Score = np.random.randint(100, size = (10, 4))\n",
    "Score"
   ],
   "outputs": [
    {
     "data": {
      "text/plain": [
       "array([[76, 41,  1, 21],\n",
       "       [31, 63,  8, 75],\n",
       "       [24, 35, 77, 25],\n",
       "       [ 9,  7, 69, 20],\n",
       "       [69, 60, 22, 52],\n",
       "       [36, 73, 97, 69],\n",
       "       [34,  0, 17, 97],\n",
       "       [28, 94, 30, 96],\n",
       "       [73, 85, 71, 86],\n",
       "       [56, 30,  8, 80]])"
      ]
     },
     "execution_count": 1,
     "metadata": {},
     "output_type": "execute_result"
    }
   ],
   "execution_count": 1
  },
  {
   "metadata": {
    "ExecuteTime": {
     "end_time": "2024-09-16T22:03:03.935047Z",
     "start_time": "2024-09-16T22:03:03.907572Z"
    }
   },
   "cell_type": "code",
   "source": [
    "Score_total = np.sum(Score, axis = 0)\n",
    "print(f'모든 학생의 수학 점수: {Score_total[2]}')"
   ],
   "id": "b1858d0559b89516",
   "outputs": [
    {
     "name": "stdout",
     "output_type": "stream",
     "text": [
      "모든 학생의 수학 점수: 400\n"
     ]
    }
   ],
   "execution_count": 2
  },
  {
   "metadata": {
    "ExecuteTime": {
     "end_time": "2024-09-16T22:03:03.938780Z",
     "start_time": "2024-09-16T22:03:03.936217Z"
    }
   },
   "cell_type": "code",
   "source": [
    "Score_total_by_students = np.sum(Score, axis = 1)\n",
    "print(f'각 학생의 과목의 총합 점수: {Score_total_by_students}')"
   ],
   "id": "32573043e0b79988",
   "outputs": [
    {
     "name": "stdout",
     "output_type": "stream",
     "text": [
      "각 학생의 과목의 총합 점수: [139 177 161 105 203 275 148 248 315 174]\n"
     ]
    }
   ],
   "execution_count": 3
  },
  {
   "metadata": {
    "ExecuteTime": {
     "end_time": "2024-09-16T22:03:03.942917Z",
     "start_time": "2024-09-16T22:03:03.939740Z"
    }
   },
   "cell_type": "code",
   "source": [
    "odd =  np.arange(Score.shape[0]) % 2 == 0\n",
    "print(f'홀수번째 학생들 불린 인덱싱으로 접근 : {odd}')\n",
    "\n",
    "odd_score = np.flip(Score[odd], axis = 1)\n",
    "print(f'홀수번 학생들의 점수: \\n{odd_score}')"
   ],
   "id": "a2311c046bf4d160",
   "outputs": [
    {
     "name": "stdout",
     "output_type": "stream",
     "text": [
      "홀수번째 학생들 불린 인덱싱으로 접근 : [ True False  True False  True False  True False  True False]\n",
      "홀수번 학생들의 점수: \n",
      "[[21  1 41 76]\n",
      " [25 77 35 24]\n",
      " [52 22 60 69]\n",
      " [97 17  0 34]\n",
      " [86 71 85 73]]\n"
     ]
    }
   ],
   "execution_count": 4
  },
  {
   "metadata": {
    "ExecuteTime": {
     "end_time": "2024-09-16T22:03:03.947449Z",
     "start_time": "2024-09-16T22:03:03.945022Z"
    }
   },
   "cell_type": "code",
   "source": [
    "Score_max_by_subjects = np.max(Score, axis = 0)\n",
    "print(f'각 과목에서의 최대 점수: {Score_max_by_subjects}')"
   ],
   "id": "891c351cd7bd650f",
   "outputs": [
    {
     "name": "stdout",
     "output_type": "stream",
     "text": [
      "각 과목에서의 최대 점수: [76 94 97 97]\n"
     ]
    }
   ],
   "execution_count": 5
  },
  {
   "metadata": {
    "ExecuteTime": {
     "end_time": "2024-09-16T22:03:03.950965Z",
     "start_time": "2024-09-16T22:03:03.948464Z"
    }
   },
   "cell_type": "code",
   "source": [
    "Score_eng = Score[:,1]\n",
    "print(f'영어 과목이 90점 미만인 학생들의 점수: {Score_eng[Score_eng <90]}')"
   ],
   "id": "964cc0a7fd6ffc52",
   "outputs": [
    {
     "name": "stdout",
     "output_type": "stream",
     "text": [
      "영어 과목이 90점 미만인 학생들의 점수: [41 63 35  7 60 73  0 85 30]\n"
     ]
    }
   ],
   "execution_count": 6
  },
  {
   "metadata": {
    "ExecuteTime": {
     "end_time": "2024-09-16T22:03:03.954615Z",
     "start_time": "2024-09-16T22:03:03.951949Z"
    }
   },
   "cell_type": "code",
   "source": [
    "Score_mean_by_subjects = np.mean(Score, axis = 0)\n",
    "print(f'국어, 영어, 수학, 과학의 평균 점수 {Score_mean_by_subjects}')"
   ],
   "id": "4d2afef1b0c9a14d",
   "outputs": [
    {
     "name": "stdout",
     "output_type": "stream",
     "text": [
      "국어, 영어, 수학, 과학의 평균 점수 [43.6 48.8 40.  62.1]\n"
     ]
    }
   ],
   "execution_count": 7
  },
  {
   "metadata": {
    "ExecuteTime": {
     "end_time": "2024-09-12T06:44:49.759045Z",
     "start_time": "2024-09-12T06:44:49.757852Z"
    }
   },
   "cell_type": "code",
   "source": "",
   "id": "9f34a8a30d833844",
   "outputs": [],
   "execution_count": 7
  }
 ],
 "metadata": {
  "kernelspec": {
   "display_name": "Python 3",
   "language": "python",
   "name": "python3"
  },
  "language_info": {
   "codemirror_mode": {
    "name": "ipython",
    "version": 2
   },
   "file_extension": ".py",
   "mimetype": "text/x-python",
   "name": "python",
   "nbconvert_exporter": "python",
   "pygments_lexer": "ipython2",
   "version": "2.7.6"
  }
 },
 "nbformat": 4,
 "nbformat_minor": 5
}
