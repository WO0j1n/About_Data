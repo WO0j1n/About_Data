{
 "cells": [
  {
   "cell_type": "code",
   "id": "initial_id",
   "metadata": {
    "collapsed": true,
    "ExecuteTime": {
     "end_time": "2024-09-12T04:31:56.489674Z",
     "start_time": "2024-09-12T04:31:56.487359Z"
    }
   },
   "source": [
    "import numpy as np\n",
    "\n",
    "a = np.random.randint(0, 10, 20)\n",
    "a = a.reshape(4, 5)\n",
    "\n",
    "a"
   ],
   "outputs": [
    {
     "data": {
      "text/plain": [
       "array([[4, 6, 7, 9, 6],\n",
       "       [0, 9, 2, 5, 1],\n",
       "       [4, 1, 2, 3, 3],\n",
       "       [7, 8, 9, 5, 6]])"
      ]
     },
     "execution_count": 2,
     "metadata": {},
     "output_type": "execute_result"
    }
   ],
   "execution_count": 2
  },
  {
   "metadata": {
    "ExecuteTime": {
     "end_time": "2024-09-12T04:32:06.264422Z",
     "start_time": "2024-09-12T04:32:06.261952Z"
    }
   },
   "cell_type": "code",
   "source": "a[a>5] # 이 두가지의 차이 잘 알아두기",
   "id": "7b6e545041c892f4",
   "outputs": [
    {
     "data": {
      "text/plain": [
       "array([6, 7, 9, 6, 9, 7, 8, 9, 6])"
      ]
     },
     "execution_count": 3,
     "metadata": {},
     "output_type": "execute_result"
    }
   ],
   "execution_count": 3
  },
  {
   "metadata": {
    "ExecuteTime": {
     "end_time": "2024-09-12T04:32:13.310361Z",
     "start_time": "2024-09-12T04:32:13.308197Z"
    }
   },
   "cell_type": "code",
   "source": "a>5 # 원소들의 boolean type으로 행렬 반환 -> 앞에 해당 행렬로 묶어주면 해당 조건의 원소들의 행렬로 반환",
   "id": "d5bbfdb5dd511bfe",
   "outputs": [
    {
     "data": {
      "text/plain": [
       "array([[False,  True,  True,  True,  True],\n",
       "       [False,  True, False, False, False],\n",
       "       [False, False, False, False, False],\n",
       "       [ True,  True,  True, False,  True]])"
      ]
     },
     "execution_count": 4,
     "metadata": {},
     "output_type": "execute_result"
    }
   ],
   "execution_count": 4
  },
  {
   "metadata": {
    "ExecuteTime": {
     "end_time": "2024-09-12T08:15:02.347632Z",
     "start_time": "2024-09-12T08:15:02.343568Z"
    }
   },
   "cell_type": "code",
   "source": [
    "import numpy as np\n",
    "\n",
    "a = np.arange(10) # 0부터 9까지 numpy 배열로\n",
    "a"
   ],
   "id": "e3ed1b80af153b00",
   "outputs": [
    {
     "data": {
      "text/plain": [
       "array([0, 1, 2, 3, 4, 5, 6, 7, 8, 9])"
      ]
     },
     "execution_count": 2,
     "metadata": {},
     "output_type": "execute_result"
    }
   ],
   "execution_count": 2
  },
  {
   "metadata": {},
   "cell_type": "code",
   "outputs": [],
   "execution_count": null,
   "source": "b = np.array()",
   "id": "f929fc469af7a25e"
  }
 ],
 "metadata": {
  "kernelspec": {
   "display_name": "Python 3",
   "language": "python",
   "name": "python3"
  },
  "language_info": {
   "codemirror_mode": {
    "name": "ipython",
    "version": 2
   },
   "file_extension": ".py",
   "mimetype": "text/x-python",
   "name": "python",
   "nbconvert_exporter": "python",
   "pygments_lexer": "ipython2",
   "version": "2.7.6"
  }
 },
 "nbformat": 4,
 "nbformat_minor": 5
}
